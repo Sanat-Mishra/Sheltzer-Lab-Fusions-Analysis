{
 "cells": [
  {
   "cell_type": "code",
   "execution_count": 29,
   "id": "c6a6ba4e-23ef-46e6-a22e-fbc127822d66",
   "metadata": {},
   "outputs": [
    {
     "name": "stdout",
     "output_type": "stream",
     "text": [
      "Collecting pydeseq2\n",
      "  Downloading pydeseq2-0.4.10-py3-none-any.whl.metadata (7.0 kB)\n",
      "Collecting anndata>=0.8.0 (from pydeseq2)\n",
      "  Downloading anndata-0.10.8-py3-none-any.whl.metadata (6.6 kB)\n",
      "Requirement already satisfied: numpy>=1.23.0 in ./miniforge3/lib/python3.10/site-packages (from pydeseq2) (1.26.4)\n",
      "Requirement already satisfied: pandas>=1.4.0 in ./miniforge3/lib/python3.10/site-packages (from pydeseq2) (2.2.2)\n",
      "Requirement already satisfied: scikit-learn>=1.1.0 in ./miniforge3/lib/python3.10/site-packages (from pydeseq2) (1.4.2)\n",
      "Requirement already satisfied: scipy>=1.11.0 in ./miniforge3/lib/python3.10/site-packages (from pydeseq2) (1.13.1)\n",
      "Requirement already satisfied: matplotlib>=3.6.2 in ./miniforge3/lib/python3.10/site-packages (from pydeseq2) (3.9.0)\n",
      "Collecting array-api-compat!=1.5,>1.4 (from anndata>=0.8.0->pydeseq2)\n",
      "  Downloading array_api_compat-1.8-py3-none-any.whl.metadata (1.5 kB)\n",
      "Requirement already satisfied: exceptiongroup in ./miniforge3/lib/python3.10/site-packages (from anndata>=0.8.0->pydeseq2) (1.2.0)\n",
      "Requirement already satisfied: h5py>=3.1 in ./miniforge3/lib/python3.10/site-packages (from anndata>=0.8.0->pydeseq2) (3.11.0)\n",
      "Collecting natsort (from anndata>=0.8.0->pydeseq2)\n",
      "  Downloading natsort-8.4.0-py3-none-any.whl.metadata (21 kB)\n",
      "Requirement already satisfied: packaging>=20.0 in ./miniforge3/lib/python3.10/site-packages (from anndata>=0.8.0->pydeseq2) (24.0)\n",
      "Requirement already satisfied: contourpy>=1.0.1 in ./miniforge3/lib/python3.10/site-packages (from matplotlib>=3.6.2->pydeseq2) (1.2.0)\n",
      "Requirement already satisfied: cycler>=0.10 in ./miniforge3/lib/python3.10/site-packages (from matplotlib>=3.6.2->pydeseq2) (0.11.0)\n",
      "Requirement already satisfied: fonttools>=4.22.0 in ./miniforge3/lib/python3.10/site-packages (from matplotlib>=3.6.2->pydeseq2) (4.51.0)\n",
      "Requirement already satisfied: kiwisolver>=1.3.1 in ./miniforge3/lib/python3.10/site-packages (from matplotlib>=3.6.2->pydeseq2) (1.4.4)\n",
      "Requirement already satisfied: pillow>=8 in ./miniforge3/lib/python3.10/site-packages (from matplotlib>=3.6.2->pydeseq2) (10.3.0)\n",
      "Requirement already satisfied: pyparsing>=2.3.1 in ./miniforge3/lib/python3.10/site-packages (from matplotlib>=3.6.2->pydeseq2) (3.0.9)\n",
      "Requirement already satisfied: python-dateutil>=2.7 in ./miniforge3/lib/python3.10/site-packages (from matplotlib>=3.6.2->pydeseq2) (2.9.0.post0)\n",
      "Requirement already satisfied: pytz>=2020.1 in ./miniforge3/lib/python3.10/site-packages (from pandas>=1.4.0->pydeseq2) (2024.1)\n",
      "Requirement already satisfied: tzdata>=2022.7 in ./miniforge3/lib/python3.10/site-packages (from pandas>=1.4.0->pydeseq2) (2023.3)\n",
      "Requirement already satisfied: joblib>=1.2.0 in ./miniforge3/lib/python3.10/site-packages (from scikit-learn>=1.1.0->pydeseq2) (1.4.2)\n",
      "Requirement already satisfied: threadpoolctl>=2.0.0 in ./miniforge3/lib/python3.10/site-packages (from scikit-learn>=1.1.0->pydeseq2) (2.2.0)\n",
      "Requirement already satisfied: six>=1.5 in ./miniforge3/lib/python3.10/site-packages (from python-dateutil>=2.7->matplotlib>=3.6.2->pydeseq2) (1.16.0)\n",
      "Downloading pydeseq2-0.4.10-py3-none-any.whl (45 kB)\n",
      "\u001b[2K   \u001b[90m━━━━━━━━━━━━━━━━━━━━━━━━━━━━━━━━━━━━━━━━\u001b[0m \u001b[32m46.0/46.0 kB\u001b[0m \u001b[31m4.7 MB/s\u001b[0m eta \u001b[36m0:00:00\u001b[0m\n",
      "\u001b[?25hDownloading anndata-0.10.8-py3-none-any.whl (124 kB)\n",
      "\u001b[2K   \u001b[90m━━━━━━━━━━━━━━━━━━━━━━━━━━━━━━━━━━━━━━━━\u001b[0m \u001b[32m124.4/124.4 kB\u001b[0m \u001b[31m10.6 MB/s\u001b[0m eta \u001b[36m0:00:00\u001b[0m\n",
      "\u001b[?25hDownloading array_api_compat-1.8-py3-none-any.whl (38 kB)\n",
      "Downloading natsort-8.4.0-py3-none-any.whl (38 kB)\n",
      "Installing collected packages: array-api-compat, natsort, anndata, pydeseq2\n",
      "Successfully installed anndata-0.10.8 array-api-compat-1.8 natsort-8.4.0 pydeseq2-0.4.10\n"
     ]
    }
   ],
   "source": [
    "!pip install pydeseq2"
   ]
  },
  {
   "cell_type": "code",
   "execution_count": 97,
   "id": "da94d49f-defc-473d-8fcf-175ad823ec63",
   "metadata": {},
   "outputs": [
    {
     "name": "stdout",
     "output_type": "stream",
     "text": [
      "Bash script with wget commands saved to /Users/sm3662/Downloads/PAC-1/download_rsem_genes.sh\n"
     ]
    }
   ],
   "source": [
    "import pandas as pd\n",
    "\n",
    "# Load the CSV file\n",
    "input_csv = '/Users/sm3662/Downloads/PAC-1/rnasequence.csv'  # replace with your actual file path\n",
    "df_meta = pd.read_csv(input_csv, encoding='unicode_escape')\n",
    "\n",
    "# Filter rows where 'CTEP SDCDescription' contains 'breast cancer'\n",
    "filtered_df = df_meta[df_meta['CTEP SDCDescription'].str.contains('breast', case=False, na=False)]\n",
    "\n",
    "# Add base URL to 'RSEM(genes)' column and create wget commands\n",
    "base_url = 'https://pdmdb.cancer.gov/'\n",
    "wget_commands = filtered_df['RSEM(genes)'].apply(lambda x: f\"wget {base_url + x}\")\n",
    "\n",
    "# Save the wget commands to a bash script\n",
    "bash_script_path = '/Users/sm3662/Downloads/PAC-1/download_rsem_genes.sh'\n",
    "with open(bash_script_path, 'w') as file:\n",
    "    file.write('#!/bin/bash\\n')\n",
    "    file.write('\\n'.join(wget_commands))\n",
    "\n",
    "print(f'Bash script with wget commands saved to {bash_script_path}')"
   ]
  },
  {
   "cell_type": "code",
   "execution_count": 15,
   "id": "cefc48ed-0f41-4cb7-bcfc-a3d897a02f72",
   "metadata": {},
   "outputs": [],
   "source": [
    "#Run the bash script, downloaded the files"
   ]
  },
  {
   "cell_type": "code",
   "execution_count": 27,
   "id": "af7c9d6e-781a-4e41-a528-d8c19b499e39",
   "metadata": {},
   "outputs": [
    {
     "name": "stdout",
     "output_type": "stream",
     "text": [
      "CSV file 'combined_data.csv' has been created successfully.\n"
     ]
    }
   ],
   "source": [
    "import os\n",
    "import pandas as pd\n",
    "\n",
    "# Path to the folder containing the files\n",
    "data_folder = '/Users/sm3662/Downloads/PAC-1/Data'\n",
    "\n",
    "# Initialize an empty dictionary to store data\n",
    "data_dict = {}\n",
    "\n",
    "# Iterate through each file in the folder\n",
    "for filename in os.listdir(data_folder):\n",
    "    if filename.endswith('.results'):\n",
    "        file_path = os.path.join(data_folder, filename)\n",
    "        # Read the file into a DataFrame\n",
    "        df = pd.read_csv(file_path, sep='\\t')\n",
    "        # Extract gene_id and expected_count\n",
    "        file_data = df.set_index('gene_id')['expected_count'].to_dict()\n",
    "        # Add data to the dictionary with the filename (without .result) as the key\n",
    "        data_dict[filename.replace('.results', '')] = file_data\n",
    "\n",
    "# Convert the dictionary to a DataFrame\n",
    "result_df = pd.DataFrame(data_dict).T\n",
    "\n",
    "# Save the DataFrame to a CSV file\n",
    "result_df.to_csv('/Users/sm3662/Downloads/PAC-1/Gene_Counts.csv')\n",
    "\n",
    "print(\"CSV file 'combined_data.csv' has been created successfully.\")\n"
   ]
  },
  {
   "cell_type": "code",
   "execution_count": 71,
   "id": "977bab9d-4b27-4816-822e-76e3d34e19a0",
   "metadata": {},
   "outputs": [
    {
     "name": "stdout",
     "output_type": "stream",
     "text": [
      "Normalized data saved to '/Users/sm3662/Downloads/PAC-1/normalized_data.csv'.\n"
     ]
    }
   ],
   "source": [
    "import pandas as pd\n",
    "import numpy as np\n",
    "from scipy.stats import gmean\n",
    "\n",
    "# Path to your file\n",
    "counts = '/Users/sm3662/Downloads/PAC-1/Gene_Counts.csv'\n",
    "\n",
    "# Read the file into a DataFrame\n",
    "df = pd.read_csv(counts, index_col=0)\n",
    "\n",
    "# Convert all values to numeric, forcing non-numeric to NaN\n",
    "df = df.apply(pd.to_numeric, errors='coerce')\n",
    "\n",
    "# Drop any rows or columns that contain NaN values\n",
    "df.dropna(inplace=True)\n",
    "\n",
    "# Define the pseudo count value\n",
    "pseudo_count = 1e-4\n",
    "\n",
    "# Add the pseudo count to all elements\n",
    "df += pseudo_count\n",
    "\n",
    "# Step 1: Transpose the DataFrame\n",
    "df_transposed = df.T\n",
    "\n",
    "# Step 2: Create a pseudo-reference sample (row-wise geometric mean)\n",
    "pseudo_ref = gmean(df_transposed, axis=1)\n",
    "df_transposed['Pseudo_Ref'] = pseudo_ref\n",
    "\n",
    "# Step 3: Calculate the ratio of each sample to the reference\n",
    "ratio_df = df_transposed.div(df_transposed['Pseudo_Ref'], axis=0)\n",
    "ratio_df = ratio_df.drop(columns=['Pseudo_Ref'])\n",
    "\n",
    "# Step 4: Calculate the normalization factor for each sample (size factor)\n",
    "size_factors = ratio_df.median(axis=0)\n",
    "\n",
    "# Step 5: Calculate the normalized count values using the normalization factor\n",
    "normalized_df = df_transposed.div(size_factors, axis=1)\n",
    "normalized_df = normalized_df.T\n",
    "\n",
    "# Optionally, save the normalized DataFrame to a new file\n",
    "normalized_file_path = '/Users/sm3662/Downloads/PAC-1/normalized_data.csv'\n",
    "normalized_df.to_csv(normalized_file_path)\n",
    "\n",
    "print(f\"Normalized data saved to '{normalized_file_path}'.\")\n"
   ]
  },
  {
   "cell_type": "code",
   "execution_count": 157,
   "id": "5a953eb5-0883-47ab-98a9-66b8ad5b82e5",
   "metadata": {},
   "outputs": [
    {
     "name": "stdout",
     "output_type": "stream",
     "text": [
      "Correspondence data saved to '/Users/sm3662/Downloads/PAC-1/correspondence_data.csv'.\n"
     ]
    }
   ],
   "source": [
    "import pandas as pd\n",
    "\n",
    "\n",
    "# Assuming ABCB1 is a column in df_counts, sort by ABCB1 value\n",
    "# Replace 'ABCB1' with the actual column name if different\n",
    "df_sorted = normalized_df.sort_values(by='ABCB1', ascending=False)\n",
    "df_sorted = df_sorted[['ABCB1']]\n",
    "# Extract the 'RSEM(genes)' column from df_input for matching\n",
    "# Assuming 'RSEM(genes)' is the column to be used for matching\n",
    "rsem_genes_col = 'RSEM(genes)'\n",
    "\n",
    "# Create a list to store combined rows\n",
    "combined_rows = []\n",
    "columns_to_keep = [\n",
    "    'ABCB1', 'Patient ID', 'Specimen ID', 'Sample ID', \n",
    "    'CTEP SDCDescription', 'DiagnosisSubtype', \n",
    "    'OncoTreeCode', 'Disease BodyLocation', 'PDM Type'\n",
    "]\n",
    "\n",
    "for index, row in df_sorted.iterrows():\n",
    "    match_row = df_meta[df_meta[rsem_genes_col].str.contains(index.split('genes.')[0])]\n",
    "    if not match_row.empty:\n",
    "        # Combine the ABCB1 value with the matched row\n",
    "        row_data = pd.DataFrame({'ABCB1': [row['ABCB1']], 'Index': [index]})\n",
    "        combined_row = row_data.join(match_row.reset_index(drop=True))\n",
    "        combined_rows.append(combined_row)\n",
    "\n",
    "# Concatenate all combined rows into a single DataFrame\n",
    "if combined_rows:\n",
    "    correspondence_df = pd.concat(combined_rows).reset_index(drop=True)\n",
    "    correspondence_df = correspondence_df[columns_to_keep + ['ABCB1']].iloc[:,1:]\n",
    "    \n",
    "    # Optionally, save the correspondence DataFrame to a new file\n",
    "    correspondence_file_path = '/Users/sm3662/Downloads/PAC-1/correspondence_data.csv'\n",
    "    correspondence_df.to_csv(correspondence_file_path, index=False)\n",
    "\n",
    "    print(f\"Correspondence data saved to '{correspondence_file_path}'.\")\n",
    "else:\n",
    "    print(\"No matching rows found.\")\n"
   ]
  },
  {
   "cell_type": "code",
   "execution_count": null,
   "id": "01240014-5a9b-47d5-a4c3-d49d66dad03c",
   "metadata": {},
   "outputs": [],
   "source": []
  }
 ],
 "metadata": {
  "kernelspec": {
   "display_name": "Python 3 (ipykernel)",
   "language": "python",
   "name": "python3"
  },
  "language_info": {
   "codemirror_mode": {
    "name": "ipython",
    "version": 3
   },
   "file_extension": ".py",
   "mimetype": "text/x-python",
   "name": "python",
   "nbconvert_exporter": "python",
   "pygments_lexer": "ipython3",
   "version": "3.10.14"
  }
 },
 "nbformat": 4,
 "nbformat_minor": 5
}
